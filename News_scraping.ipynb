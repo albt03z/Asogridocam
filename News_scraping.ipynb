{
  "cells": [
    {
      "cell_type": "code",
      "execution_count": 41,
      "metadata": {
        "id": "ZlOjg_r9m9W0"
      },
      "outputs": [],
      "source": [
        "import requests\n",
        "from bs4 import BeautifulSoup\n",
        "import sqlite3\n",
        "import datetime"
      ]
    },
    {
      "cell_type": "code",
      "execution_count": 42,
      "metadata": {},
      "outputs": [],
      "source": [
        "conn = sqlite3.connect(\"db.sqlite3\")\n",
        "cursor = conn.cursor()"
      ]
    },
    {
      "cell_type": "code",
      "execution_count": 43,
      "metadata": {
        "id": "PN-cMhFhm_8i"
      },
      "outputs": [],
      "source": [
        "BASE_URL = 'https://www.agronegocios.co'"
      ]
    },
    {
      "cell_type": "code",
      "execution_count": 44,
      "metadata": {
        "id": "i_KaUEiAnBny"
      },
      "outputs": [],
      "source": [
        "def obtener_html(url):\n",
        "  \"\"\"Scrapes a website and extracts data.\n",
        "\n",
        "  Args:\n",
        "    url: The URL of the website to scrape.\n",
        "\n",
        "  Returns:\n",
        "    A list of data extracted from the website.\n",
        "  \"\"\"\n",
        "\n",
        "  headers = {\n",
        "        'User-Agent': 'Mozilla/5.0 (Windows NT 10.0; Win64; x64) AppleWebKit/537.36',\n",
        "        'Accept-Language': 'es-ES,es;q=0.9'\n",
        "    }\n",
        "  try:\n",
        "      response = requests.get(url, headers=headers, timeout=10)\n",
        "      response.raise_for_status()\n",
        "      return response.text\n",
        "  except requests.exceptions.RequestException as e:\n",
        "      print(f\"Error al obtener {url}: {str(e)}\")\n",
        "      return None"
      ]
    },
    {
      "cell_type": "code",
      "execution_count": 45,
      "metadata": {
        "id": "vWxNd5_u85t7"
      },
      "outputs": [],
      "source": [
        "def extraer_autor(url_noticia):\n",
        "    \"\"\"Extrae el nombre del autor desde la URL de una noticia.\"\"\"\n",
        "    html = obtener_html(url_noticia)\n",
        "    if not html:\n",
        "        return \"Desconocido\"\n",
        "\n",
        "    soup = BeautifulSoup(html, 'html.parser')\n",
        "    autor_span = soup.select_one('.author-save .author span')\n",
        "    autor_a = soup.select_one('.author-save .author a')\n",
        "    return autor_span.text.strip() if autor_span else autor_a.text.strip() if autor_a else \"Desconocido\""
      ]
    },
    {
      "cell_type": "code",
      "execution_count": 46,
      "metadata": {
        "id": "yFCviBopnV3q"
      },
      "outputs": [],
      "source": [
        "def extraer_noticias():\n",
        "    \"\"\"Extrae noticias desde la página principal.\"\"\"\n",
        "    html = obtener_html(BASE_URL)\n",
        "    if not html:\n",
        "        print(\"No se pudo obtener el HTML de la página.\")\n",
        "        return\n",
        "\n",
        "    soup = BeautifulSoup(html, 'html.parser')\n",
        "    articulos = soup.find_all('div', class_='post-card-1')\n",
        "\n",
        "    if not articulos:\n",
        "        print(\"⚠ No se encontraron artículos en la página.\")\n",
        "        return\n",
        "\n",
        "    for i, articulo in enumerate(articulos):\n",
        "        if i >= 8:\n",
        "            break\n",
        "        \n",
        "        try:\n",
        "            category = articulo.find('span').text.strip() if articulo.find('span') else \"Sin categoría\"\n",
        "            title = articulo.find('h3').text.strip() if articulo.find('h3') else \"Sin título\"\n",
        "            image = articulo.find('img')['data-src'] if articulo.find('img') and 'data-src' in articulo.find('img').attrs else \"\"\n",
        "            relative_url = articulo.find('a')['href'] if articulo.find('a') else \"#\"\n",
        "            new_url = f\"{BASE_URL}{relative_url}\"\n",
        "            extracted_at = datetime.datetime.now().strftime(\"%Y-%m-%d %H:%M:%S\")\n",
        "\n",
        "            author = extraer_autor(new_url)\n",
        "\n",
        "            noticia = {\n",
        "                'Categoría': category,\n",
        "                'Título': title,\n",
        "                'Imagen URL': image,\n",
        "                'URL Noticia': new_url,\n",
        "                'Autor': author\n",
        "            }\n",
        "\n",
        "            cursor.execute(\"INSERT INTO news (category, title, image_url, news_url, author, extracted_at) VALUES (?, ?, ?, ?, ?, ?)\", (category, title, image, new_url, author, extracted_at))\n",
        "            conn.commit()\n",
        "\n",
        "            print(noticia)\n",
        "\n",
        "        except Exception as e:\n",
        "            print(f\"Error procesando noticia: {str(e)}\")"
      ]
    },
    {
      "cell_type": "code",
      "execution_count": 47,
      "metadata": {
        "colab": {
          "base_uri": "https://localhost:8080/"
        },
        "id": "xcbHxZuZ8AdK",
        "outputId": "6dfc9db2-f54b-4581-898a-152f415323b7"
      },
      "outputs": [
        {
          "name": "stdout",
          "output_type": "stream",
          "text": [
            "{'Categoría': 'Porcinos', 'Título': 'El avance que cambiaría el control de los virus porcinos', 'Imagen URL': 'https://img.lalr.co/cms/2020/09/10094902/cerdos.png?r=16_9', 'URL Noticia': 'https://www.agronegocios.co/finca/la-interaccion-de-la-gripe-por-porcina-y-el-prrsv-cambiaria-el-control-de-los-virus-en-cerdos-4069087', 'Autor': 'Juliana Ramos Mosquera'}\n",
            "{'Categoría': 'Agricultura', 'Título': 'Empezó el Salón Internacional de la Agricultura en París, Francia', 'Imagen URL': 'https://img.lalr.co/cms/2025/02/14130429/Bovinos-4.jpg?r=16_9', 'URL Noticia': 'https://www.agronegocios.co/agricultura/se-reunen-agricultores-del-mundo-para-el-salon-internacional-de-agricultura-en-paris-4068751', 'Autor': 'Juliana Ramos Mosquera'}\n",
            "{'Categoría': 'Agricultura', 'Título': 'Caída del cacao: preocupaciones por demanda y suministros', 'Imagen URL': 'https://img.lalr.co/cms/2025/01/13100154/Cacao-seco.jpg?r=16_9', 'URL Noticia': 'https://www.agronegocios.co/agricultura/caida-del-cacao-preocupaciones-por-la-demanda-eclipsan-escasez-de-suministros-4068615', 'Autor': 'Bloomberg'}\n",
            "{'Categoría': 'Clima', 'Título': 'Rayos cósmicos y la huella invisible que dejan en la Tierra', 'Imagen URL': 'https://img.lalr.co/cms/2025/02/21130314/Rayos-cosmicos.jpg?r=16_9', 'URL Noticia': 'https://www.agronegocios.co/clima/conozca-que-son-los-rayos-cosmicos-y-como-estos-dejan-una-huella-invisible-en-la-tierra-4068912', 'Autor': 'Juliana Ramos Mosquera'}\n",
            "{'Categoría': 'Agricultura', 'Título': 'La deforestación en Colombia aumentó 35% en 2024', 'Imagen URL': 'https://img.lalr.co/cms/2024/12/03162143/Deforestacion.jpg?r=16_9', 'URL Noticia': 'https://www.agronegocios.co/agricultura/segun-un-informe-del-ministerio-de-ambiente-la-deforestacion-en-colombia-aumento-35-4067760', 'Autor': 'Juliana Ramos Mosquera'}\n",
            "{'Categoría': 'Tecnología', 'Título': 'El avance tecnológico que detecta el dolor en cabras', 'Imagen URL': 'https://img.lalr.co/cms/2023/05/12154851/Carne-caprina-Instituto-Colombiano-Agropecuario.jpg?r=16_9', 'URL Noticia': 'https://www.agronegocios.co/tecnologia/conozca-el-avance-tecnologico-en-la-deteccion-automatica-del-dolor-agudo-en-cabras-4068081', 'Autor': 'Juliana Ramos Mosquera'}\n",
            "{'Categoría': 'Agricultura', 'Título': 'Conclusiones de la sesión del Consejo Nacional del Arroz', 'Imagen URL': 'https://img.lalr.co/cms/2023/09/08124348/392157139-1.jpg?r=16_9', 'URL Noticia': 'https://www.agronegocios.co/agricultura/principales-conclusiones-de-la-sesion-extraordinaria-del-consejo-nacional-del-arroz-4067491', 'Autor': 'Carlos Jaramillo Palacio'}\n",
            "{'Categoría': 'Remedios', 'Título': 'Alimentos naturales que le ayudarán a manejar la ansiedad', 'Imagen URL': 'https://img.lalr.co/cms/2025/02/20144329/Salmon.jpg?r=16_9', 'URL Noticia': 'https://www.agronegocios.co/remedios/conozca-la-mejor-manera-de-afrontar-la-ansiedad-comiendo-alimentos-naturales-4067911', 'Autor': 'Juliana Ramos Mosquera'}\n"
          ]
        }
      ],
      "source": [
        "extraer_noticias()"
      ]
    },
    {
      "cell_type": "code",
      "execution_count": 48,
      "metadata": {},
      "outputs": [],
      "source": [
        "conn.close()"
      ]
    }
  ],
  "metadata": {
    "colab": {
      "provenance": []
    },
    "kernelspec": {
      "display_name": "venv",
      "language": "python",
      "name": "python3"
    },
    "language_info": {
      "codemirror_mode": {
        "name": "ipython",
        "version": 3
      },
      "file_extension": ".py",
      "mimetype": "text/x-python",
      "name": "python",
      "nbconvert_exporter": "python",
      "pygments_lexer": "ipython3",
      "version": "3.12.4"
    }
  },
  "nbformat": 4,
  "nbformat_minor": 0
}
